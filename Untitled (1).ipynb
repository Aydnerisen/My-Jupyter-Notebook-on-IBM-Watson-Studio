{
 "cells": [
  {
   "cell_type": "markdown",
   "id": "14b6cb4a-e325-4715-92c0-c727795b58b3",
   "metadata": {},
   "source": [
    "# My Jupyter Notebook on IBM Watson Studio"
   ]
  },
  {
   "cell_type": "markdown",
   "id": "c16e59cc-8a67-4e91-bef4-2d99c2c87289",
   "metadata": {},
   "source": [
    "__Aydın Can Erisen__<br>\n",
    "Data Scientist"
   ]
  },
  {
   "cell_type": "markdown",
   "id": "0345302b-79b8-48aa-85d1-617050027ce4",
   "metadata": {},
   "source": [
    "_I am interested in data science because i like analyzing and playing with big data. It's fun to discover the story data hides._ "
   ]
  },
  {
   "cell_type": "markdown",
   "id": "ed83b706-5e72-4d8c-a41f-29399dec02db",
   "metadata": {},
   "source": [
    "<h3>Below code takes a number from user and outputs gcd of the number in a list.<h3>"
   ]
  },
  {
   "cell_type": "code",
   "execution_count": 19,
   "id": "de49c4b5-7e97-4bc9-b9f3-02229e2dd828",
   "metadata": {},
   "outputs": [
    {
     "name": "stdin",
     "output_type": "stream",
     "text": [
      "Give a number to find gcd: 100\n"
     ]
    },
    {
     "name": "stdout",
     "output_type": "stream",
     "text": [
      "[1, 2, 4, 5, 10, 20, 25, 50]\n"
     ]
    }
   ],
   "source": [
    "x=int(input(\"Give a number to find gcd:\"))\n",
    "y=[]\n",
    "for i in range(1,x):\n",
    "    if x%i==0:\n",
    "        y.append(i)\n",
    "print(y)"
   ]
  },
  {
   "cell_type": "markdown",
   "id": "9c957f23-0383-4ede-8570-f7b37c159479",
   "metadata": {},
   "source": [
    "---\n",
    ">Good work<br>\n",
    "1. Step 1\n",
    "1. Step 2\n",
    "1. Step 3\n",
    "\n",
    "__[Here is a link]https://www.google.com/search?q=link+g%C3%B6rseli&sxsrf=ALiCzsaDu93snaLABpt8qHvjQxB_9JOc4w:1666632482006&source=lnms&tbm=isch&sa=X&ved=2ahUKEwj2kr7osfn6AhUDRvEDHf8hBdoQ_AUoAXoECAIQAw&biw=998&bih=712&dpr=1#imgrc=uF3iJc8lphIyTM__\n"
   ]
  }
 ],
 "metadata": {
  "kernelspec": {
   "display_name": "Python",
   "language": "python",
   "name": "conda-env-python-py"
  },
  "language_info": {
   "codemirror_mode": {
    "name": "ipython",
    "version": 3
   },
   "file_extension": ".py",
   "mimetype": "text/x-python",
   "name": "python",
   "nbconvert_exporter": "python",
   "pygments_lexer": "ipython3",
   "version": "3.7.12"
  }
 },
 "nbformat": 4,
 "nbformat_minor": 5
}
