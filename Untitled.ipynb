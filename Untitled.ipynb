{
 "cells": [
  {
   "cell_type": "markdown",
   "id": "14b6cb4a-e325-4715-92c0-c727795b58b3",
   "metadata": {},
   "source": [
    "# My Jupyter Notebook on IBM Watson Studio"
   ]
  },
  {
   "cell_type": "markdown",
   "id": "c16e59cc-8a67-4e91-bef4-2d99c2c87289",
   "metadata": {},
   "source": [
    "__Aydın Can Erisen__<br>\n",
    "Data Scientist"
   ]
  },
  {
   "cell_type": "markdown",
   "id": "0345302b-79b8-48aa-85d1-617050027ce4",
   "metadata": {},
   "source": [
    "_I am interested in data science because i like analyzing and playing with big data. It's fun to discover the story data hides._ "
   ]
  },
  {
   "cell_type": "code",
   "execution_count": null,
   "id": "0928efeb-58f3-4cf7-8b10-a13a7555649d",
   "metadata": {},
   "outputs": [],
   "source": [
    "### Below code takes a number from user and outputs gcd of the number in a list."
   ]
  },
  {
   "cell_type": "code",
   "execution_count": 19,
   "id": "de49c4b5-7e97-4bc9-b9f3-02229e2dd828",
   "metadata": {},
   "outputs": [
    {
     "name": "stdin",
     "output_type": "stream",
     "text": [
      "Give a number to find gcd: 100\n"
     ]
    },
    {
     "name": "stdout",
     "output_type": "stream",
     "text": [
      "[1, 2, 4, 5, 10, 20, 25, 50]\n"
     ]
    }
   ],
   "source": [
    "x=int(input(\"Give a number to find gcd:\"))\n",
    "y=[]\n",
    "for i in range(1,x):\n",
    "    if x%i==0:\n",
    "        y.append(i)\n",
    "print(y)"
   ]
  },
  {
   "cell_type": "markdown",
   "id": "9c957f23-0383-4ede-8570-f7b37c159479",
   "metadata": {},
   "source": [
    "---\n",
    ">Good work<br>\n",
    " 1. Step 1\n",
    "    2. Step 2\n",
    "    3. Step 3\n"
   ]
  },
  {
   "cell_type": "code",
   "execution_count": null,
   "id": "8ed8115c-9d24-4c45-9da9-68dd8aa0c422",
   "metadata": {},
   "outputs": [],
   "source": []
  },
  {
   "cell_type": "code",
   "execution_count": null,
   "id": "5ffa37f1-d123-41c4-86e4-a83807d30b27",
   "metadata": {},
   "outputs": [],
   "source": []
  }
 ],
 "metadata": {
  "kernelspec": {
   "display_name": "Python",
   "language": "python",
   "name": "conda-env-python-py"
  },
  "language_info": {
   "codemirror_mode": {
    "name": "ipython",
    "version": 3
   },
   "file_extension": ".py",
   "mimetype": "text/x-python",
   "name": "python",
   "nbconvert_exporter": "python",
   "pygments_lexer": "ipython3",
   "version": "3.7.12"
  }
 },
 "nbformat": 4,
 "nbformat_minor": 5
}
